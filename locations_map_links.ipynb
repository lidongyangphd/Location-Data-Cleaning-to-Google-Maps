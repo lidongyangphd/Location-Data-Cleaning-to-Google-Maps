{
 "cells": [
  {
   "cell_type": "code",
   "execution_count": null,
   "id": "57b1d7ec",
   "metadata": {},
   "outputs": [],
   "source": [
    "# Define a string of locations.\n",
    "locations_str = \"\"\"Tim Hortons - 24921 Ford Rd, Dearborn MI 48128\n",
    "Tim Hortons - 21203 Michigan Ave, Dearborn MI 48124\"\"\"\n",
    "\n",
    "# Convert the multiline string into a list of locations.\n",
    "locations_list = locations_str.split('\\n')\n",
    "\n",
    "# Function to convert locations into Google Maps search URLs.\n",
    "def generate_urls(locations):\n",
    "    return [f\"https://www.google.com/maps/search/{location.replace(' - ', ',+')}\" for location in locations]\n",
    "\n",
    "# Generate URLs for the list of locations.\n",
    "urls = generate_urls(locations_list)\n",
    "\n",
    "# Encode URLs for HTML compatibility.\n",
    "def clean_url(url):\n",
    "    return url.replace(' ', '%20')\n",
    "\n",
    "# Generate HTML content with clickable links.\n",
    "def generate_html_list(urls):\n",
    "    html = \"<!DOCTYPE html>\\n<html>\\n<head>\\n<title>Locations Map Links</title>\\n</head>\\n<body>\\n<ul>\\n\"\n",
    "    for url in urls:\n",
    "        cleaned_url = clean_url(url)\n",
    "        html += f\"  <li><a href='{cleaned_url}' target='_blank'>{url}</a></li>\\n\"\n",
    "    html += \"</ul>\\n</body>\\n</html>\"\n",
    "    return html\n",
    "\n",
    "# Create HTML content.\n",
    "html_content = generate_html_list(urls)\n",
    "\n",
    "# Specify the path for the HTML file.\n",
    "file_path = 'locations_map_links.html'\n",
    "# Write the HTML content to the file.\n",
    "with open(file_path, 'w') as file:\n",
    "    file.write(html_content)\n"
   ]
  }
 ],
 "metadata": {
  "kernelspec": {
   "display_name": "Python 3 (ipykernel)",
   "language": "python",
   "name": "python3"
  },
  "language_info": {
   "codemirror_mode": {
    "name": "ipython",
    "version": 3
   },
   "file_extension": ".py",
   "mimetype": "text/x-python",
   "name": "python",
   "nbconvert_exporter": "python",
   "pygments_lexer": "ipython3",
   "version": "3.11.4"
  }
 },
 "nbformat": 4,
 "nbformat_minor": 5
}
